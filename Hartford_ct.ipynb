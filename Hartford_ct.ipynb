{
  "nbformat": 4,
  "nbformat_minor": 0,
  "metadata": {
    "colab": {
      "name": "Python Lab 3",
      "provenance": [],
      "authorship_tag": "ABX9TyNw7qe6aj70bjOWYIoUkl8M",
      "include_colab_link": true
    },
    "kernelspec": {
      "name": "python3",
      "display_name": "Python 3"
    }
  },
  "cells": [
    {
      "cell_type": "markdown",
      "metadata": {
        "id": "view-in-github",
        "colab_type": "text"
      },
      "source": [
        "<a href=\"https://colab.research.google.com/github/IDCE-MSGIS/lab-3-web-scrapping-weather-data-rcorcoranadams/blob/master/RCorcoranAdams_Lab_3.ipynb\" target=\"_parent\"><img src=\"https://colab.research.google.com/assets/colab-badge.svg\" alt=\"Open In Colab\"/></a>"
      ]
    },
    {
      "cell_type": "code",
      "metadata": {
        "id": "QZ7rfaMyzn1O",
        "colab_type": "code",
        "colab": {
          "base_uri": "https://localhost:8080/",
          "height": 510
        },
        "outputId": "9fd8761f-8813-4621-81aa-59f8fbcf4164"
      },
      "source": [
        "# Name: Rachel Corcoran-Adams\n",
        "# Created: September 18, 2020\n",
        "# Python version: 8.5\n",
        "# The inputs include a script that extracts live weather condiitons from the National Weather Service\n",
        "# The outputs are current weather details for Hartford, Connecticut. \n",
        "\n",
        "# Import required libraries\n",
        "import requests\n",
        "from bs4 import BeautifulSoup\n",
        "\n",
        "# Provide the latitude and longitude for the location you would like to check the weather for\n",
        "# Lat/lon in decimal degrees provided for Worcester, MA\n",
        "lat = '41.765804'\n",
        "lon = '-72.67337'\n",
        "\n",
        "# Create url for the requested location through string concatenation\n",
        "url = 'https://forecast.weather.gov/MapClick.php?lat='+lat+\"&lon=\"+lon\n",
        "# Check if the URL exists\n",
        "# print url\n",
        "\n",
        "# Send request to retrieve the web-page using the get() function from the requests library\n",
        "# The page variable stores the response from the web-page\n",
        "page = requests.get(url)\n",
        "\n",
        "# Create a BeautifulSoup object with the response from the URL\n",
        "# Access contents of the web-page using .content\n",
        "# html_parser is used since our page is in HTML format\n",
        "soup=BeautifulSoup(page.content,\"html.parser\")\n",
        "\n",
        "# Locate element on page to be scraped\n",
        "# This element is located within an id tag called current_conditions_detail\n",
        "# find() locates the element in the BeatifulSoup object\n",
        "cur_weather_details = soup.find(id=\"current_conditions_detail\")\n",
        "\n",
        "# Extract text from the selected BeautifulSoup objects using .text\n",
        "cur_weather_details = cur_weather_details.text\n",
        "\n",
        "# Final Output\n",
        "# Return scraped information\n",
        "print('The Current Weather Conditions at '+ lat +  \", \" + lon + \" is:\" + cur_weather_details)"
      ],
      "execution_count": 4,
      "outputs": [
        {
          "output_type": "stream",
          "text": [
            "The Current Weather Conditions at 41.765804, -72.67337 is:\n",
            "\n",
            "\n",
            "Humidity\n",
            "70%\n",
            "\n",
            "\n",
            "Wind Speed\n",
            "N 12 mph\n",
            "\n",
            "\n",
            "Barometer\n",
            "29.99 in (1015.5 mb)\n",
            "\n",
            "\n",
            "Dewpoint\n",
            "52°F (11°C)\n",
            "\n",
            "\n",
            "Visibility\n",
            "10.00 mi\n",
            "\n",
            "\n",
            "Last update\n",
            "\n",
            "                18 Sep 9:53 am EDT            \n",
            "\n",
            "\n",
            "\n"
          ],
          "name": "stdout"
        }
      ]
    },
    {
      "cell_type": "code",
      "metadata": {
        "id": "ScFWg_fptO9b",
        "colab_type": "code",
        "colab": {}
      },
      "source": [
        ":"
      ],
      "execution_count": null,
      "outputs": []
    }
  ]
}
